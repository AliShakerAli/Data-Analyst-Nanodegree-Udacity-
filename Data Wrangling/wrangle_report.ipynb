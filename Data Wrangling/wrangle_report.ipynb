{
 "cells": [
  {
   "cell_type": "markdown",
   "metadata": {},
   "source": [
    "# WeRateDogs (Twitter Data)"
   ]
  },
  {
   "cell_type": "markdown",
   "metadata": {},
   "source": [
    "## Gathering Data\n",
    "> download the data which is a given CSV file and named as twitter-archive-enhanced.csv\n",
    "\n",
    "> download the file image predictions file which is in the tsv format programmatically using the Requests library .\n",
    "\n",
    "> created my twitter developer account and Read the JSON file named tweet-json.txt\n"
   ]
  },
  {
   "cell_type": "markdown",
   "metadata": {},
   "source": [
    "#### Now i have 3 data frames\n",
    "> TArchive_df : gives information on basic tweet data.\n",
    "\n",
    "> IPredictions_df : contain information about predictions about the image\n",
    "\n",
    "> tweets : contain information like tweet_id, no of retweets and no of favorites etc."
   ]
  },
  {
   "cell_type": "markdown",
   "metadata": {},
   "source": [
    "## Assesing the data\n",
    ">  I displayed each table in its entirety by displaying the pandas DataFrame that it was gathered into then i checked for NULL values and duplicated values and get the Quality and Tidiness problems.\n",
    "\n",
    "### 1. TArchive_df\n",
    "\n",
    "#### Quality :\n",
    "> unusual names found for dogs such as : 'just', 'life', 'mad', 'my','old', 'one', 'quite', 'space',  'not', 'officially', 'such', 'the', 'this', 'unacceptable', 'very'\n",
    "\n",
    "> Missing values in columns from in_reply_to_status_id, in_reply_to_user_id, retweeted_status_id , retweeted_status_user_id, retweeted_status_timestamp, expanded_urls\n",
    "\n",
    "> tweet id 835246439529840640 has a rating of denominator = 0\n",
    "\n",
    "> timestamp and retweeted_status_timestamp must be of datetime datatype instead of the object datatype\n",
    "\n",
    "#### Tidiness :\n",
    "> Dog stages are found in multiple columns\n",
    "\n",
    "### 2. IPredictions_df\n",
    "\n",
    "#### Quality :\n",
    "> only 2075 tweet Ids have images\n",
    "#### Tidiness :\n",
    "> all the tweets information is found with TArchive_df so All the prediction outputs from different algorithms have to be joined with TArchive_df\n",
    "\n",
    "### 3. tweets\n",
    "\n",
    "#### Quality :\n",
    "> Missing values in many columns but for most important columns that i will use (retweet_count and favorite_count) there is no missing values"
   ]
  },
  {
   "cell_type": "markdown",
   "metadata": {},
   "source": [
    "## Cleaning the Data"
   ]
  },
  {
   "cell_type": "markdown",
   "metadata": {},
   "source": [
    "> Create a copy from all the dataframes\n",
    "\n",
    "> Convert the datatype of \"tweet_id\" to string\n",
    "\n",
    "> extracting the most important columns from Tweets_clean\n",
    "\n",
    "> Create a universe dataset joining all the dataframes based on the tweet_id\n",
    "\n",
    "> Convert the dog stage or category into one column instead of multiple columns"
   ]
  },
  {
   "cell_type": "markdown",
   "metadata": {},
   "source": [
    "## Store the Data\n",
    "> I stored the final dataframe into csv file with name twitter_archive_master.csv"
   ]
  },
  {
   "cell_type": "markdown",
   "metadata": {},
   "source": [
    "## Resources\n",
    "> https://video.udacity-data.com/topher/2018/November/5be5fb4c_twitter-api/twitter-api.py\n",
    "\n",
    "> https://cran.r-project.org/web/packages/tidyr/vignettes/tidy-data.html\n",
    "\n",
    "> https://github.com/shravankoninti/Udacity_DataAnalyst/tree/master/Project-4%20-%20Data_Wrangling\n",
    "\n",
    "> https://www.geeksforgeeks.org/python-pandas-dataframe-drop_duplicates/\n",
    "\n",
    "> https://cmdlinetips.com/2018/03/how-to-change-column-names-and-row-indexes-in-pandas/#:~:text=One%20way%20to%20rename%20columns,list%20to%20column%20names%20directly.&text=This%20will%20assign%20the%20names,the%20data%20frame%20%E2%80%9Cgapminder%E2%80%9D.\n",
    "\n",
    "> https://pandas.pydata.org/docs/getting_started/intro_tutorials/03_subset_data.html\n"
   ]
  }
 ],
 "metadata": {
  "kernelspec": {
   "display_name": "Python 3",
   "language": "python",
   "name": "python3"
  },
  "language_info": {
   "codemirror_mode": {
    "name": "ipython",
    "version": 3
   },
   "file_extension": ".py",
   "mimetype": "text/x-python",
   "name": "python",
   "nbconvert_exporter": "python",
   "pygments_lexer": "ipython3",
   "version": "3.7.7"
  }
 },
 "nbformat": 4,
 "nbformat_minor": 4
}
