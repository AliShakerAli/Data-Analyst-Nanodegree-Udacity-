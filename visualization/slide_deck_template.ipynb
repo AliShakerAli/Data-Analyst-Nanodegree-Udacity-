{
 "cells": [
  {
   "cell_type": "markdown",
   "metadata": {
    "slideshow": {
     "slide_type": "slide"
    }
   },
   "source": [
    "# Loan Data from Prosper\n",
    "## by Ali Shaker"
   ]
  },
  {
   "cell_type": "markdown",
   "metadata": {
    "slideshow": {
     "slide_type": "slide"
    }
   },
   "source": [
    "## Investigation Overview\n",
    "\n",
    "> What affects the borrower’s APR or interest rate?\n",
    "\n",
    "## Dataset Overview\n",
    "\n",
    "> This data set contains 113,937 loans with 81 variables on each\n",
    "loan, including loan amount, borrower rate (or interest rate),\n",
    "current loan status, borrower income, and many others."
   ]
  },
  {
   "cell_type": "code",
   "execution_count": 1,
   "metadata": {
    "slideshow": {
     "slide_type": "skip"
    }
   },
   "outputs": [],
   "source": [
    "# import all packages and set plots to be embedded inline\n",
    "import numpy as np\n",
    "import pandas as pd\n",
    "import matplotlib.pyplot as plt\n",
    "import seaborn as sb\n",
    "\n",
    "%matplotlib inline\n",
    "\n",
    "# suppress warnings from final output\n",
    "import warnings\n",
    "warnings.simplefilter(\"ignore\")"
   ]
  },
  {
   "cell_type": "code",
   "execution_count": 2,
   "metadata": {
    "slideshow": {
     "slide_type": "skip"
    }
   },
   "outputs": [
    {
     "data": {
      "text/html": [
       "<div>\n",
       "<style scoped>\n",
       "    .dataframe tbody tr th:only-of-type {\n",
       "        vertical-align: middle;\n",
       "    }\n",
       "\n",
       "    .dataframe tbody tr th {\n",
       "        vertical-align: top;\n",
       "    }\n",
       "\n",
       "    .dataframe thead th {\n",
       "        text-align: right;\n",
       "    }\n",
       "</style>\n",
       "<table border=\"1\" class=\"dataframe\">\n",
       "  <thead>\n",
       "    <tr style=\"text-align: right;\">\n",
       "      <th></th>\n",
       "      <th>ListingKey</th>\n",
       "      <th>ListingNumber</th>\n",
       "      <th>ListingCreationDate</th>\n",
       "      <th>CreditGrade</th>\n",
       "      <th>Term</th>\n",
       "      <th>LoanStatus</th>\n",
       "      <th>ClosedDate</th>\n",
       "      <th>BorrowerAPR</th>\n",
       "      <th>BorrowerRate</th>\n",
       "      <th>LenderYield</th>\n",
       "      <th>...</th>\n",
       "      <th>LP_ServiceFees</th>\n",
       "      <th>LP_CollectionFees</th>\n",
       "      <th>LP_GrossPrincipalLoss</th>\n",
       "      <th>LP_NetPrincipalLoss</th>\n",
       "      <th>LP_NonPrincipalRecoverypayments</th>\n",
       "      <th>PercentFunded</th>\n",
       "      <th>Recommendations</th>\n",
       "      <th>InvestmentFromFriendsCount</th>\n",
       "      <th>InvestmentFromFriendsAmount</th>\n",
       "      <th>Investors</th>\n",
       "    </tr>\n",
       "  </thead>\n",
       "  <tbody>\n",
       "    <tr>\n",
       "      <th>0</th>\n",
       "      <td>1021339766868145413AB3B</td>\n",
       "      <td>193129</td>\n",
       "      <td>2007-08-26 19:09:29.263000000</td>\n",
       "      <td>C</td>\n",
       "      <td>36</td>\n",
       "      <td>Completed</td>\n",
       "      <td>2009-08-14 00:00:00</td>\n",
       "      <td>0.16516</td>\n",
       "      <td>0.1580</td>\n",
       "      <td>0.1380</td>\n",
       "      <td>...</td>\n",
       "      <td>-133.18</td>\n",
       "      <td>0.0</td>\n",
       "      <td>0.0</td>\n",
       "      <td>0.0</td>\n",
       "      <td>0.0</td>\n",
       "      <td>1.0</td>\n",
       "      <td>0</td>\n",
       "      <td>0</td>\n",
       "      <td>0.0</td>\n",
       "      <td>258</td>\n",
       "    </tr>\n",
       "    <tr>\n",
       "      <th>1</th>\n",
       "      <td>10273602499503308B223C1</td>\n",
       "      <td>1209647</td>\n",
       "      <td>2014-02-27 08:28:07.900000000</td>\n",
       "      <td>NaN</td>\n",
       "      <td>36</td>\n",
       "      <td>Current</td>\n",
       "      <td>NaN</td>\n",
       "      <td>0.12016</td>\n",
       "      <td>0.0920</td>\n",
       "      <td>0.0820</td>\n",
       "      <td>...</td>\n",
       "      <td>0.00</td>\n",
       "      <td>0.0</td>\n",
       "      <td>0.0</td>\n",
       "      <td>0.0</td>\n",
       "      <td>0.0</td>\n",
       "      <td>1.0</td>\n",
       "      <td>0</td>\n",
       "      <td>0</td>\n",
       "      <td>0.0</td>\n",
       "      <td>1</td>\n",
       "    </tr>\n",
       "    <tr>\n",
       "      <th>2</th>\n",
       "      <td>0EE9337825851032864889A</td>\n",
       "      <td>81716</td>\n",
       "      <td>2007-01-05 15:00:47.090000000</td>\n",
       "      <td>HR</td>\n",
       "      <td>36</td>\n",
       "      <td>Completed</td>\n",
       "      <td>2009-12-17 00:00:00</td>\n",
       "      <td>0.28269</td>\n",
       "      <td>0.2750</td>\n",
       "      <td>0.2400</td>\n",
       "      <td>...</td>\n",
       "      <td>-24.20</td>\n",
       "      <td>0.0</td>\n",
       "      <td>0.0</td>\n",
       "      <td>0.0</td>\n",
       "      <td>0.0</td>\n",
       "      <td>1.0</td>\n",
       "      <td>0</td>\n",
       "      <td>0</td>\n",
       "      <td>0.0</td>\n",
       "      <td>41</td>\n",
       "    </tr>\n",
       "    <tr>\n",
       "      <th>3</th>\n",
       "      <td>0EF5356002482715299901A</td>\n",
       "      <td>658116</td>\n",
       "      <td>2012-10-22 11:02:35.010000000</td>\n",
       "      <td>NaN</td>\n",
       "      <td>36</td>\n",
       "      <td>Current</td>\n",
       "      <td>NaN</td>\n",
       "      <td>0.12528</td>\n",
       "      <td>0.0974</td>\n",
       "      <td>0.0874</td>\n",
       "      <td>...</td>\n",
       "      <td>-108.01</td>\n",
       "      <td>0.0</td>\n",
       "      <td>0.0</td>\n",
       "      <td>0.0</td>\n",
       "      <td>0.0</td>\n",
       "      <td>1.0</td>\n",
       "      <td>0</td>\n",
       "      <td>0</td>\n",
       "      <td>0.0</td>\n",
       "      <td>158</td>\n",
       "    </tr>\n",
       "    <tr>\n",
       "      <th>4</th>\n",
       "      <td>0F023589499656230C5E3E2</td>\n",
       "      <td>909464</td>\n",
       "      <td>2013-09-14 18:38:39.097000000</td>\n",
       "      <td>NaN</td>\n",
       "      <td>36</td>\n",
       "      <td>Current</td>\n",
       "      <td>NaN</td>\n",
       "      <td>0.24614</td>\n",
       "      <td>0.2085</td>\n",
       "      <td>0.1985</td>\n",
       "      <td>...</td>\n",
       "      <td>-60.27</td>\n",
       "      <td>0.0</td>\n",
       "      <td>0.0</td>\n",
       "      <td>0.0</td>\n",
       "      <td>0.0</td>\n",
       "      <td>1.0</td>\n",
       "      <td>0</td>\n",
       "      <td>0</td>\n",
       "      <td>0.0</td>\n",
       "      <td>20</td>\n",
       "    </tr>\n",
       "  </tbody>\n",
       "</table>\n",
       "<p>5 rows × 81 columns</p>\n",
       "</div>"
      ],
      "text/plain": [
       "                ListingKey  ListingNumber            ListingCreationDate  \\\n",
       "0  1021339766868145413AB3B         193129  2007-08-26 19:09:29.263000000   \n",
       "1  10273602499503308B223C1        1209647  2014-02-27 08:28:07.900000000   \n",
       "2  0EE9337825851032864889A          81716  2007-01-05 15:00:47.090000000   \n",
       "3  0EF5356002482715299901A         658116  2012-10-22 11:02:35.010000000   \n",
       "4  0F023589499656230C5E3E2         909464  2013-09-14 18:38:39.097000000   \n",
       "\n",
       "  CreditGrade  Term LoanStatus           ClosedDate  BorrowerAPR  \\\n",
       "0           C    36  Completed  2009-08-14 00:00:00      0.16516   \n",
       "1         NaN    36    Current                  NaN      0.12016   \n",
       "2          HR    36  Completed  2009-12-17 00:00:00      0.28269   \n",
       "3         NaN    36    Current                  NaN      0.12528   \n",
       "4         NaN    36    Current                  NaN      0.24614   \n",
       "\n",
       "   BorrowerRate  LenderYield  ...  LP_ServiceFees  LP_CollectionFees  \\\n",
       "0        0.1580       0.1380  ...         -133.18                0.0   \n",
       "1        0.0920       0.0820  ...            0.00                0.0   \n",
       "2        0.2750       0.2400  ...          -24.20                0.0   \n",
       "3        0.0974       0.0874  ...         -108.01                0.0   \n",
       "4        0.2085       0.1985  ...          -60.27                0.0   \n",
       "\n",
       "   LP_GrossPrincipalLoss  LP_NetPrincipalLoss LP_NonPrincipalRecoverypayments  \\\n",
       "0                    0.0                  0.0                             0.0   \n",
       "1                    0.0                  0.0                             0.0   \n",
       "2                    0.0                  0.0                             0.0   \n",
       "3                    0.0                  0.0                             0.0   \n",
       "4                    0.0                  0.0                             0.0   \n",
       "\n",
       "   PercentFunded  Recommendations InvestmentFromFriendsCount  \\\n",
       "0            1.0                0                          0   \n",
       "1            1.0                0                          0   \n",
       "2            1.0                0                          0   \n",
       "3            1.0                0                          0   \n",
       "4            1.0                0                          0   \n",
       "\n",
       "  InvestmentFromFriendsAmount Investors  \n",
       "0                         0.0       258  \n",
       "1                         0.0         1  \n",
       "2                         0.0        41  \n",
       "3                         0.0       158  \n",
       "4                         0.0        20  \n",
       "\n",
       "[5 rows x 81 columns]"
      ]
     },
     "execution_count": 2,
     "metadata": {},
     "output_type": "execute_result"
    }
   ],
   "source": [
    "# load in the dataset into a pandas dataframe\n",
    "df=pd.read_csv('prosperLoanData.csv')\n",
    "df.head()"
   ]
  },
  {
   "cell_type": "markdown",
   "metadata": {
    "slideshow": {
     "slide_type": "skip"
    }
   },
   "source": [
    "## Exploring the Data"
   ]
  },
  {
   "cell_type": "code",
   "execution_count": 3,
   "metadata": {
    "slideshow": {
     "slide_type": "skip"
    }
   },
   "outputs": [
    {
     "data": {
      "text/plain": [
       "(113937, 81)"
      ]
     },
     "execution_count": 3,
     "metadata": {},
     "output_type": "execute_result"
    }
   ],
   "source": [
    "# the structure of data (number of columns and rows)\n",
    "df.shape"
   ]
  },
  {
   "cell_type": "markdown",
   "metadata": {
    "slideshow": {
     "slide_type": "skip"
    }
   },
   "source": [
    "### Check for columns names , data types and NULL values "
   ]
  },
  {
   "cell_type": "code",
   "execution_count": 4,
   "metadata": {
    "slideshow": {
     "slide_type": "skip"
    }
   },
   "outputs": [
    {
     "name": "stdout",
     "output_type": "stream",
     "text": [
      "<class 'pandas.core.frame.DataFrame'>\n",
      "RangeIndex: 113937 entries, 0 to 113936\n",
      "Data columns (total 81 columns):\n",
      " #   Column                               Non-Null Count   Dtype  \n",
      "---  ------                               --------------   -----  \n",
      " 0   ListingKey                           113937 non-null  object \n",
      " 1   ListingNumber                        113937 non-null  int64  \n",
      " 2   ListingCreationDate                  113937 non-null  object \n",
      " 3   CreditGrade                          28953 non-null   object \n",
      " 4   Term                                 113937 non-null  int64  \n",
      " 5   LoanStatus                           113937 non-null  object \n",
      " 6   ClosedDate                           55089 non-null   object \n",
      " 7   BorrowerAPR                          113912 non-null  float64\n",
      " 8   BorrowerRate                         113937 non-null  float64\n",
      " 9   LenderYield                          113937 non-null  float64\n",
      " 10  EstimatedEffectiveYield              84853 non-null   float64\n",
      " 11  EstimatedLoss                        84853 non-null   float64\n",
      " 12  EstimatedReturn                      84853 non-null   float64\n",
      " 13  ProsperRating (numeric)              84853 non-null   float64\n",
      " 14  ProsperRating (Alpha)                84853 non-null   object \n",
      " 15  ProsperScore                         84853 non-null   float64\n",
      " 16  ListingCategory (numeric)            113937 non-null  int64  \n",
      " 17  BorrowerState                        108422 non-null  object \n",
      " 18  Occupation                           110349 non-null  object \n",
      " 19  EmploymentStatus                     111682 non-null  object \n",
      " 20  EmploymentStatusDuration             106312 non-null  float64\n",
      " 21  IsBorrowerHomeowner                  113937 non-null  bool   \n",
      " 22  CurrentlyInGroup                     113937 non-null  bool   \n",
      " 23  GroupKey                             13341 non-null   object \n",
      " 24  DateCreditPulled                     113937 non-null  object \n",
      " 25  CreditScoreRangeLower                113346 non-null  float64\n",
      " 26  CreditScoreRangeUpper                113346 non-null  float64\n",
      " 27  FirstRecordedCreditLine              113240 non-null  object \n",
      " 28  CurrentCreditLines                   106333 non-null  float64\n",
      " 29  OpenCreditLines                      106333 non-null  float64\n",
      " 30  TotalCreditLinespast7years           113240 non-null  float64\n",
      " 31  OpenRevolvingAccounts                113937 non-null  int64  \n",
      " 32  OpenRevolvingMonthlyPayment          113937 non-null  float64\n",
      " 33  InquiriesLast6Months                 113240 non-null  float64\n",
      " 34  TotalInquiries                       112778 non-null  float64\n",
      " 35  CurrentDelinquencies                 113240 non-null  float64\n",
      " 36  AmountDelinquent                     106315 non-null  float64\n",
      " 37  DelinquenciesLast7Years              112947 non-null  float64\n",
      " 38  PublicRecordsLast10Years             113240 non-null  float64\n",
      " 39  PublicRecordsLast12Months            106333 non-null  float64\n",
      " 40  RevolvingCreditBalance               106333 non-null  float64\n",
      " 41  BankcardUtilization                  106333 non-null  float64\n",
      " 42  AvailableBankcardCredit              106393 non-null  float64\n",
      " 43  TotalTrades                          106393 non-null  float64\n",
      " 44  TradesNeverDelinquent (percentage)   106393 non-null  float64\n",
      " 45  TradesOpenedLast6Months              106393 non-null  float64\n",
      " 46  DebtToIncomeRatio                    105383 non-null  float64\n",
      " 47  IncomeRange                          113937 non-null  object \n",
      " 48  IncomeVerifiable                     113937 non-null  bool   \n",
      " 49  StatedMonthlyIncome                  113937 non-null  float64\n",
      " 50  LoanKey                              113937 non-null  object \n",
      " 51  TotalProsperLoans                    22085 non-null   float64\n",
      " 52  TotalProsperPaymentsBilled           22085 non-null   float64\n",
      " 53  OnTimeProsperPayments                22085 non-null   float64\n",
      " 54  ProsperPaymentsLessThanOneMonthLate  22085 non-null   float64\n",
      " 55  ProsperPaymentsOneMonthPlusLate      22085 non-null   float64\n",
      " 56  ProsperPrincipalBorrowed             22085 non-null   float64\n",
      " 57  ProsperPrincipalOutstanding          22085 non-null   float64\n",
      " 58  ScorexChangeAtTimeOfListing          18928 non-null   float64\n",
      " 59  LoanCurrentDaysDelinquent            113937 non-null  int64  \n",
      " 60  LoanFirstDefaultedCycleNumber        16952 non-null   float64\n",
      " 61  LoanMonthsSinceOrigination           113937 non-null  int64  \n",
      " 62  LoanNumber                           113937 non-null  int64  \n",
      " 63  LoanOriginalAmount                   113937 non-null  int64  \n",
      " 64  LoanOriginationDate                  113937 non-null  object \n",
      " 65  LoanOriginationQuarter               113937 non-null  object \n",
      " 66  MemberKey                            113937 non-null  object \n",
      " 67  MonthlyLoanPayment                   113937 non-null  float64\n",
      " 68  LP_CustomerPayments                  113937 non-null  float64\n",
      " 69  LP_CustomerPrincipalPayments         113937 non-null  float64\n",
      " 70  LP_InterestandFees                   113937 non-null  float64\n",
      " 71  LP_ServiceFees                       113937 non-null  float64\n",
      " 72  LP_CollectionFees                    113937 non-null  float64\n",
      " 73  LP_GrossPrincipalLoss                113937 non-null  float64\n",
      " 74  LP_NetPrincipalLoss                  113937 non-null  float64\n",
      " 75  LP_NonPrincipalRecoverypayments      113937 non-null  float64\n",
      " 76  PercentFunded                        113937 non-null  float64\n",
      " 77  Recommendations                      113937 non-null  int64  \n",
      " 78  InvestmentFromFriendsCount           113937 non-null  int64  \n",
      " 79  InvestmentFromFriendsAmount          113937 non-null  float64\n",
      " 80  Investors                            113937 non-null  int64  \n",
      "dtypes: bool(3), float64(50), int64(11), object(17)\n",
      "memory usage: 68.1+ MB\n"
     ]
    }
   ],
   "source": [
    "df.info()"
   ]
  },
  {
   "cell_type": "markdown",
   "metadata": {
    "slideshow": {
     "slide_type": "skip"
    }
   },
   "source": [
    "### choose important variables to work on it because there are so many variables"
   ]
  },
  {
   "cell_type": "code",
   "execution_count": 5,
   "metadata": {
    "slideshow": {
     "slide_type": "skip"
    }
   },
   "outputs": [],
   "source": [
    "columns = ['Term' , \n",
    "        'LoanStatus',   \n",
    "        'BorrowerAPR' , \n",
    "        'BorrowerRate' , \n",
    "        'ProsperRating (Alpha)',                \n",
    "        'ListingCategory (numeric)', \n",
    "        'EmploymentStatus', \n",
    "        'IsBorrowerHomeowner', \n",
    "        'StatedMonthlyIncome', \n",
    "        'LoanOriginalAmount' ,\n",
    "        'PercentFunded',\n",
    "        'IncomeRange',\n",
    "        'Investors' ,\n",
    "        'MonthlyLoanPayment']"
   ]
  },
  {
   "cell_type": "markdown",
   "metadata": {
    "slideshow": {
     "slide_type": "skip"
    }
   },
   "source": [
    "### create new data frame with the choosen columns and name it 'df2'"
   ]
  },
  {
   "cell_type": "code",
   "execution_count": 6,
   "metadata": {
    "slideshow": {
     "slide_type": "skip"
    }
   },
   "outputs": [],
   "source": [
    "df2 = df[columns]"
   ]
  },
  {
   "cell_type": "markdown",
   "metadata": {
    "slideshow": {
     "slide_type": "skip"
    }
   },
   "source": [
    "### check for null values in the 'df2'"
   ]
  },
  {
   "cell_type": "code",
   "execution_count": 7,
   "metadata": {
    "slideshow": {
     "slide_type": "skip"
    }
   },
   "outputs": [
    {
     "name": "stdout",
     "output_type": "stream",
     "text": [
      "<class 'pandas.core.frame.DataFrame'>\n",
      "RangeIndex: 113937 entries, 0 to 113936\n",
      "Data columns (total 14 columns):\n",
      " #   Column                     Non-Null Count   Dtype  \n",
      "---  ------                     --------------   -----  \n",
      " 0   Term                       113937 non-null  int64  \n",
      " 1   LoanStatus                 113937 non-null  object \n",
      " 2   BorrowerAPR                113912 non-null  float64\n",
      " 3   BorrowerRate               113937 non-null  float64\n",
      " 4   ProsperRating (Alpha)      84853 non-null   object \n",
      " 5   ListingCategory (numeric)  113937 non-null  int64  \n",
      " 6   EmploymentStatus           111682 non-null  object \n",
      " 7   IsBorrowerHomeowner        113937 non-null  bool   \n",
      " 8   StatedMonthlyIncome        113937 non-null  float64\n",
      " 9   LoanOriginalAmount         113937 non-null  int64  \n",
      " 10  PercentFunded              113937 non-null  float64\n",
      " 11  IncomeRange                113937 non-null  object \n",
      " 12  Investors                  113937 non-null  int64  \n",
      " 13  MonthlyLoanPayment         113937 non-null  float64\n",
      "dtypes: bool(1), float64(5), int64(4), object(4)\n",
      "memory usage: 11.4+ MB\n"
     ]
    }
   ],
   "source": [
    "df2.info()"
   ]
  },
  {
   "cell_type": "code",
   "execution_count": 8,
   "metadata": {
    "slideshow": {
     "slide_type": "skip"
    }
   },
   "outputs": [],
   "source": [
    "df2=df2.dropna()"
   ]
  },
  {
   "cell_type": "code",
   "execution_count": 9,
   "metadata": {
    "slideshow": {
     "slide_type": "skip"
    }
   },
   "outputs": [
    {
     "name": "stdout",
     "output_type": "stream",
     "text": [
      "<class 'pandas.core.frame.DataFrame'>\n",
      "Int64Index: 84853 entries, 1 to 113936\n",
      "Data columns (total 14 columns):\n",
      " #   Column                     Non-Null Count  Dtype  \n",
      "---  ------                     --------------  -----  \n",
      " 0   Term                       84853 non-null  int64  \n",
      " 1   LoanStatus                 84853 non-null  object \n",
      " 2   BorrowerAPR                84853 non-null  float64\n",
      " 3   BorrowerRate               84853 non-null  float64\n",
      " 4   ProsperRating (Alpha)      84853 non-null  object \n",
      " 5   ListingCategory (numeric)  84853 non-null  int64  \n",
      " 6   EmploymentStatus           84853 non-null  object \n",
      " 7   IsBorrowerHomeowner        84853 non-null  bool   \n",
      " 8   StatedMonthlyIncome        84853 non-null  float64\n",
      " 9   LoanOriginalAmount         84853 non-null  int64  \n",
      " 10  PercentFunded              84853 non-null  float64\n",
      " 11  IncomeRange                84853 non-null  object \n",
      " 12  Investors                  84853 non-null  int64  \n",
      " 13  MonthlyLoanPayment         84853 non-null  float64\n",
      "dtypes: bool(1), float64(5), int64(4), object(4)\n",
      "memory usage: 9.1+ MB\n"
     ]
    }
   ],
   "source": [
    "df2.info()"
   ]
  },
  {
   "cell_type": "code",
   "execution_count": 10,
   "metadata": {
    "slideshow": {
     "slide_type": "skip"
    }
   },
   "outputs": [],
   "source": [
    "df2.rename(columns={ 'ProsperRating (Alpha)': 'Prosper_Rating_Alpha',\n",
    "                        'ListingCategory (numeric)' : 'Listing_Category_Numeric'}, inplace=True)"
   ]
  },
  {
   "cell_type": "code",
   "execution_count": 11,
   "metadata": {
    "slideshow": {
     "slide_type": "skip"
    }
   },
   "outputs": [
    {
     "data": {
      "text/plain": [
       "Index(['Term', 'LoanStatus', 'BorrowerAPR', 'BorrowerRate',\n",
       "       'Prosper_Rating_Alpha', 'Listing_Category_Numeric', 'EmploymentStatus',\n",
       "       'IsBorrowerHomeowner', 'StatedMonthlyIncome', 'LoanOriginalAmount',\n",
       "       'PercentFunded', 'IncomeRange', 'Investors', 'MonthlyLoanPayment'],\n",
       "      dtype='object')"
      ]
     },
     "execution_count": 11,
     "metadata": {},
     "output_type": "execute_result"
    }
   ],
   "source": [
    "df2.columns"
   ]
  },
  {
   "cell_type": "code",
   "execution_count": 12,
   "metadata": {
    "slideshow": {
     "slide_type": "skip"
    }
   },
   "outputs": [],
   "source": [
    "df2['Term'] = df2['Term'].astype('category')"
   ]
  },
  {
   "cell_type": "code",
   "execution_count": 13,
   "metadata": {
    "slideshow": {
     "slide_type": "skip"
    }
   },
   "outputs": [
    {
     "name": "stdout",
     "output_type": "stream",
     "text": [
      "<class 'pandas.core.frame.DataFrame'>\n",
      "Int64Index: 84853 entries, 1 to 113936\n",
      "Data columns (total 14 columns):\n",
      " #   Column                    Non-Null Count  Dtype   \n",
      "---  ------                    --------------  -----   \n",
      " 0   Term                      84853 non-null  category\n",
      " 1   LoanStatus                84853 non-null  object  \n",
      " 2   BorrowerAPR               84853 non-null  float64 \n",
      " 3   BorrowerRate              84853 non-null  float64 \n",
      " 4   Prosper_Rating_Alpha      84853 non-null  object  \n",
      " 5   Listing_Category_Numeric  84853 non-null  int64   \n",
      " 6   EmploymentStatus          84853 non-null  object  \n",
      " 7   IsBorrowerHomeowner       84853 non-null  bool    \n",
      " 8   StatedMonthlyIncome       84853 non-null  float64 \n",
      " 9   LoanOriginalAmount        84853 non-null  int64   \n",
      " 10  PercentFunded             84853 non-null  float64 \n",
      " 11  IncomeRange               84853 non-null  object  \n",
      " 12  Investors                 84853 non-null  int64   \n",
      " 13  MonthlyLoanPayment        84853 non-null  float64 \n",
      "dtypes: bool(1), category(1), float64(5), int64(3), object(4)\n",
      "memory usage: 8.6+ MB\n"
     ]
    }
   ],
   "source": [
    "df2.info()"
   ]
  },
  {
   "cell_type": "code",
   "execution_count": 14,
   "metadata": {
    "slideshow": {
     "slide_type": "skip"
    }
   },
   "outputs": [],
   "source": [
    "Numeric_df = df2.loc[:, (df2.dtypes == np.int64) | (df2.dtypes == np.float64) ]\n",
    "categorical_df = df2.loc[:,  (df2.dtypes == 'category') | (df2.dtypes == 'object') ]"
   ]
  },
  {
   "cell_type": "markdown",
   "metadata": {
    "slideshow": {
     "slide_type": "slide"
    }
   },
   "source": [
    "### What is the structure of your dataset?\n",
    "\n",
    "> there are 81 variables (columns) and 113937 rows but after choosing \n",
    "\n",
    "### What is/are the main feature(s) of interest in your dataset?\n",
    "\n",
    "> feature that affect the loan’s outcome status and that affect the borrower’s APR\n",
    "or interest rate\n",
    "\n",
    "### What features in the dataset do you think will help support your investigation into your feature(s) of interest?\n",
    "\n",
    "> i think the IncomeRange will affect on the borrower’s APR or interest rate\n"
   ]
  },
  {
   "cell_type": "markdown",
   "metadata": {
    "slideshow": {
     "slide_type": "slide"
    }
   },
   "source": [
    "## Univariate Exploration\n",
    "\n"
   ]
  },
  {
   "cell_type": "markdown",
   "metadata": {
    "slideshow": {
     "slide_type": "slide"
    }
   },
   "source": [
    "## We will start by the categorical variables analysis"
   ]
  },
  {
   "cell_type": "markdown",
   "metadata": {
    "slideshow": {
     "slide_type": "slide"
    }
   },
   "source": [
    "### Let's look at the ranges of the income for all the borrowers"
   ]
  },
  {
   "cell_type": "code",
   "execution_count": 15,
   "metadata": {
    "slideshow": {
     "slide_type": "subslide"
    }
   },
   "outputs": [
    {
     "data": {
      "image/png": "[encoded data removed]",
      "text/plain": [
       "<Figure size 1440x720 with 1 Axes>"
      ]
     },
     "metadata": {},
     "output_type": "display_data"
    }
   ],
   "source": [
    "plt.figure(figsize = [20, 10])\n",
    "sorted_counts = df2['IncomeRange'].value_counts()\n",
    "plt.pie(sorted_counts, labels = sorted_counts.index, startangle = 90,\n",
    "        counterclock = False, autopct   = '%.1f%%');\n",
    "plt.title(\"IncomeRange of all Borrowers\")\n",
    "plt.axis('square');"
   ]
  },
  {
   "cell_type": "markdown",
   "metadata": {
    "slideshow": {
     "slide_type": "subslide"
    }
   },
   "source": [
    "#### Most Borrowers have an income range 50000 - 74999 USD"
   ]
  },
  {
   "cell_type": "markdown",
   "metadata": {
    "slideshow": {
     "slide_type": "slide"
    }
   },
   "source": [
    "### let's look at the Term counts"
   ]
  },
  {
   "cell_type": "code",
   "execution_count": 16,
   "metadata": {
    "slideshow": {
     "slide_type": "subslide"
    }
   },
   "outputs": [
    {
     "data": {
      "image/png": "[encoded data removed]",
      "text/plain": [
       "<Figure size 1080x576 with 1 Axes>"
      ]
     },
     "metadata": {},
     "output_type": "display_data"
    }
   ],
   "source": [
    "plt.figure(figsize = [15, 8])\n",
    "NDF = df2['Term'].value_counts()\n",
    "plt.pie(NDF, labels = NDF.index, startangle = 90,\n",
    "        counterclock = False, wedgeprops = {'width' : 0.5}, autopct   = '%.1f%%');\n",
    "plt.title(\"Term counts\")\n",
    "plt.axis('square');"
   ]
  },
  {
   "cell_type": "markdown",
   "metadata": {
    "slideshow": {
     "slide_type": "subslide"
    }
   },
   "source": [
    "#### most of borrwers take the loan with term 36 monthes and the least of them take it with term 12 monthes"
   ]
  },
  {
   "cell_type": "markdown",
   "metadata": {
    "slideshow": {
     "slide_type": "slide"
    }
   },
   "source": [
    "## The Insights of categorical variables analysis :\n",
    "\n",
    "> Most Borrowers have an income range 50000 - 74999 USD\n",
    "\n",
    "> most of borrwers take the loan with term 36 monthes and the least of them take it with term 12 monthes"
   ]
  },
  {
   "cell_type": "markdown",
   "metadata": {
    "slideshow": {
     "slide_type": "slide"
    }
   },
   "source": [
    "## Now we will start to Analyze the numeric attributes"
   ]
  },
  {
   "cell_type": "markdown",
   "metadata": {
    "slideshow": {
     "slide_type": "slide"
    }
   },
   "source": [
    "### Let's look at the Borrower's Annual Percentage Rate (APR) for the loan."
   ]
  },
  {
   "cell_type": "code",
   "execution_count": 17,
   "metadata": {
    "slideshow": {
     "slide_type": "subslide"
    }
   },
   "outputs": [
    {
     "data": {
      "image/png": "[encoded data removed]",
      "text/plain": [
       "<Figure size 432x288 with 1 Axes>"
      ]
     },
     "metadata": {
      "needs_background": "light"
     },
     "output_type": "display_data"
    }
   ],
   "source": [
    "plt.hist(data = df2, x = 'BorrowerAPR');\n",
    "plt.xlabel('BorrowerAPR');\n",
    "plt.ylabel('Count');\n",
    "plt.title(\"The Borrower's Annual Percentage Rate (APR) for the loan.\");"
   ]
  },
  {
   "cell_type": "markdown",
   "metadata": {
    "slideshow": {
     "slide_type": "subslide"
    }
   },
   "source": [
    "#### There are many APR from 4% to 46% but the most of them are about 20%"
   ]
  },
  {
   "cell_type": "markdown",
   "metadata": {
    "slideshow": {
     "slide_type": "slide"
    }
   },
   "source": [
    "### Let's look at the Loan Original Amount of all Borrowers"
   ]
  },
  {
   "cell_type": "code",
   "execution_count": 18,
   "metadata": {
    "slideshow": {
     "slide_type": "subslide"
    }
   },
   "outputs": [
    {
     "data": {
      "image/png": "[encoded data removed]",
      "text/plain": [
       "<Figure size 432x288 with 1 Axes>"
      ]
     },
     "metadata": {
      "needs_background": "light"
     },
     "output_type": "display_data"
    }
   ],
   "source": [
    "plt.hist(data = df2, x = 'LoanOriginalAmount');\n",
    "plt.xlabel('LoanOriginalAmount');\n",
    "plt.ylabel('Count');\n",
    "plt.title(\"Loan Original Amount of all Borrowers\");"
   ]
  },
  {
   "cell_type": "markdown",
   "metadata": {
    "slideshow": {
     "slide_type": "subslide"
    }
   },
   "source": [
    "the histgram is right skewed"
   ]
  },
  {
   "cell_type": "code",
   "execution_count": 19,
   "metadata": {
    "scrolled": true,
    "slideshow": {
     "slide_type": "subslide"
    }
   },
   "outputs": [
    {
     "data": {
      "image/png": "[encoded data removed]",
      "text/plain": [
       "<Figure size 1008x504 with 2 Axes>"
      ]
     },
     "metadata": {
      "needs_background": "light"
     },
     "output_type": "display_data"
    }
   ],
   "source": [
    "plt.figure(figsize = [14, 7])\n",
    "\n",
    "# left histogram: data plotted in natural units\n",
    "plt.subplot(1, 2, 1)\n",
    "bin_edges = np.arange(0, df2.LoanOriginalAmount.max()+1000, 1000)\n",
    "plt.hist(data =df2, x = 'LoanOriginalAmount', bins = bin_edges)\n",
    "plt.xlabel('Loan Original Amount')\n",
    "plt.ylabel('Count');\n",
    "plt.title(\"Loan Original Amount of all Borrowers\");\n",
    "\n",
    "# right histogram: data plotted after direct log transformation\n",
    "plt.subplot(1, 2, 2)\n",
    "log_data = np.log10(df2.LoanOriginalAmount)\n",
    "log_bin_edges = np.arange(3.0, log_data.max()+0.1, 0.2)\n",
    "plt.hist(log_data, bins = log_bin_edges)\n",
    "plt.xlabel('log(LoanOriginalAmount)');\n",
    "plt.ylabel('Count');\n",
    "plt.title(\"Loan Original Amount of all Borrowers (Log)\");\n",
    "\n",
    "df2.LoanOriginalAmount_log = np.log10(df2.LoanOriginalAmount)"
   ]
  },
  {
   "cell_type": "markdown",
   "metadata": {
    "slideshow": {
     "slide_type": "subslide"
    }
   },
   "source": [
    "#### Loan Original Amount started from 1000 to 35000 and there are multiple peaks observed at 4000 , 10000  and 15000 $.\n"
   ]
  },
  {
   "cell_type": "markdown",
   "metadata": {
    "slideshow": {
     "slide_type": "slide"
    }
   },
   "source": [
    "### Let's look at the monthly loan payment for all borrowers"
   ]
  },
  {
   "cell_type": "code",
   "execution_count": 20,
   "metadata": {
    "slideshow": {
     "slide_type": "subslide"
    }
   },
   "outputs": [
    {
     "data": {
      "image/png": "[encoded data removed]",
      "text/plain": [
       "<Figure size 1296x648 with 1 Axes>"
      ]
     },
     "metadata": {
      "needs_background": "light"
     },
     "output_type": "display_data"
    }
   ],
   "source": [
    "plt.figure(figsize = [18, 9])\n",
    "plt.hist(data = df2, x = 'MonthlyLoanPayment');\n",
    "plt.xlabel('Monthly Loan Payment');\n",
    "plt.ylabel('Count');\n",
    "plt.title(\"Monthly Loan Payment for all Borrowers\");"
   ]
  },
  {
   "cell_type": "markdown",
   "metadata": {
    "slideshow": {
     "slide_type": "subslide"
    }
   },
   "source": [
    "#### Most of borrowers pay less than 500 USD monthly for the loan"
   ]
  },
  {
   "cell_type": "markdown",
   "metadata": {
    "slideshow": {
     "slide_type": "slide"
    }
   },
   "source": [
    "### Discuss the distribution(s) of your variable(s) of interest. Were there any unusual points? Did you need to perform any transformations?\n",
    "\n",
    "> i need to make transformations for the variables (Investors , LoanOriginalAmount)\n",
    "\n",
    "### Of the features you investigated, were there any unusual distributions? Did you perform any operations on the data to tidy, adjust, or change the form of the data? If so, why did you do this?\n",
    "\n",
    "> changed the columns names that contain a white space to can work on them\n",
    "\n",
    "> changed the data type of the Term variable to be category instead of int64\n",
    "\n",
    "> drop all rows that contain NULL values"
   ]
  },
  {
   "cell_type": "markdown",
   "metadata": {
    "slideshow": {
     "slide_type": "slide"
    }
   },
   "source": [
    "## The Insights of Numerical variables analysis :\n",
    "\n",
    "> There are many APR from 4% to 46% but the most of them are about 20%\n",
    "\n",
    "> Loan Original Amount started from 1000 to 35000 and there are multiple peaks observed at 4000 , 10000 and 15000 USD\n",
    "\n",
    "> Most of borrowers pay less than 500 USD monthly for the loan"
   ]
  },
  {
   "cell_type": "markdown",
   "metadata": {
    "slideshow": {
     "slide_type": "slide"
    }
   },
   "source": [
    "## Bivariate Exploration"
   ]
  },
  {
   "cell_type": "markdown",
   "metadata": {
    "slideshow": {
     "slide_type": "slide"
    }
   },
   "source": [
    "## Categorical Vs Numeric"
   ]
  },
  {
   "cell_type": "markdown",
   "metadata": {
    "slideshow": {
     "slide_type": "slide"
    }
   },
   "source": [
    "### Check if the IncomeRange will affect on the borrower’s APR or not\n"
   ]
  },
  {
   "cell_type": "code",
   "execution_count": 21,
   "metadata": {
    "slideshow": {
     "slide_type": "subslide"
    }
   },
   "outputs": [
    {
     "data": {
      "text/plain": [
       "Text(0.5, 1.0, 'Income Range vs BorrowerAPR')"
      ]
     },
     "execution_count": 21,
     "metadata": {},
     "output_type": "execute_result"
    },
    {
     "data": {
      "image/png": "[encoded data removed]",
      "text/plain": [
       "<Figure size 432x288 with 1 Axes>"
      ]
     },
     "metadata": {
      "needs_background": "light"
     },
     "output_type": "display_data"
    }
   ],
   "source": [
    "base_color = sb.color_palette()[0]\n",
    "sb.violinplot(data = df2, x = 'IncomeRange', y = 'BorrowerAPR', color = base_color)\n",
    "plt.xticks(rotation = 15);\n",
    "plt.title('Income Range vs BorrowerAPR')"
   ]
  },
  {
   "cell_type": "markdown",
   "metadata": {
    "slideshow": {
     "slide_type": "subslide"
    }
   },
   "source": [
    "#### The beggist APR is for those whose income range from 1 - 24999 USD and the lowest APR is for those whose income range more than 100000 USD (The Lower income range the more APR) (The more income range the lower APR)"
   ]
  },
  {
   "cell_type": "markdown",
   "metadata": {
    "slideshow": {
     "slide_type": "slide"
    }
   },
   "source": [
    "## Numeric Vs Numeric"
   ]
  },
  {
   "cell_type": "markdown",
   "metadata": {
    "slideshow": {
     "slide_type": "subslide"
    }
   },
   "source": [
    "### Check if the LoanOriginalAmount will affect on the borrower’s APR or not"
   ]
  },
  {
   "cell_type": "code",
   "execution_count": 22,
   "metadata": {
    "slideshow": {
     "slide_type": "subslide"
    }
   },
   "outputs": [
    {
     "data": {
      "text/plain": [
       "<matplotlib.axes._subplots.AxesSubplot at 0x1f4bba1b188>"
      ]
     },
     "execution_count": 22,
     "metadata": {},
     "output_type": "execute_result"
    },
    {
     "data": {
      "image/png": "[encoded data removed]",
      "text/plain": [
       "<Figure size 432x288 with 1 Axes>"
      ]
     },
     "metadata": {
      "needs_background": "light"
     },
     "output_type": "display_data"
    }
   ],
   "source": [
    "sb.regplot(data = df2, x = 'LoanOriginalAmount', y = 'BorrowerAPR')"
   ]
  },
  {
   "cell_type": "markdown",
   "metadata": {
    "slideshow": {
     "slide_type": "subslide"
    }
   },
   "source": [
    "#### There is a correlation between the LoanOriginalAmount and the BorrowerAPR that the more LoanOriginalAmount the less of BorrowerAPR"
   ]
  },
  {
   "cell_type": "markdown",
   "metadata": {
    "slideshow": {
     "slide_type": "slide"
    }
   },
   "source": [
    "### Check if the MonthlyLoanPayment will affect on the borrower’s APR or not"
   ]
  },
  {
   "cell_type": "code",
   "execution_count": 23,
   "metadata": {
    "slideshow": {
     "slide_type": "subslide"
    }
   },
   "outputs": [
    {
     "data": {
      "image/png": "[encoded data removed]",
      "text/plain": [
       "<Figure size 432x288 with 1 Axes>"
      ]
     },
     "metadata": {
      "needs_background": "light"
     },
     "output_type": "display_data"
    }
   ],
   "source": [
    "plt.scatter(data = df2, x = 'MonthlyLoanPayment', y = 'BorrowerAPR')\n",
    "plt.xlabel('MonthlyLoanPayment')\n",
    "plt.ylabel('BorrowerAPR');"
   ]
  },
  {
   "cell_type": "markdown",
   "metadata": {
    "slideshow": {
     "slide_type": "subslide"
    }
   },
   "source": [
    "#### There is a correlation between the MonthlyLoanPayment and the BorrowerAPR that the less MonthlyLoanPayment the more of BorrowerAPR"
   ]
  },
  {
   "cell_type": "markdown",
   "metadata": {
    "slideshow": {
     "slide_type": "slide"
    }
   },
   "source": [
    "### Talk about some of the relationships you observed in this part of the investigation. How did the feature(s) of interest vary with other features in the dataset?\n",
    "\n",
    "> There is a correlation between the (MonthlyLoanPayment , LoanOriginalAmount , IncomeRange) and the BorrowerAPR\n",
    "\n",
    "### Did you observe any interesting relationships between the other features (not the main feature(s) of interest)?\n",
    "\n",
    "> No"
   ]
  },
  {
   "cell_type": "markdown",
   "metadata": {
    "slideshow": {
     "slide_type": "slide"
    }
   },
   "source": [
    "## The Insights of Bivariate Exploration :\n",
    "\n",
    "> The beggist APR is for those whose income range from 1 - 24999 USD and the lowest APR is for those whose income range more than 100000 USD (The Lower income range the more APR) (The more income range the lower APR)\n",
    "\n",
    "> There is a correlation between the LoanOriginalAmount and the BorrowerAPR that the more LoanOriginalAmount the less of BorrowerAPR\n",
    "\n",
    "> There is a correlation between the MonthlyLoanPayment and the BorrowerAPR that the less MonthlyLoanPayment the more of BorrowerAPR"
   ]
  },
  {
   "cell_type": "markdown",
   "metadata": {
    "slideshow": {
     "slide_type": "slide"
    }
   },
   "source": [
    "## Multivariate Exploration"
   ]
  },
  {
   "cell_type": "markdown",
   "metadata": {
    "slideshow": {
     "slide_type": "slide"
    }
   },
   "source": [
    "### Check if the Term affect on the IncomeRange and BorrowerAPR"
   ]
  },
  {
   "cell_type": "code",
   "execution_count": 24,
   "metadata": {
    "slideshow": {
     "slide_type": "subslide"
    }
   },
   "outputs": [
    {
     "data": {
      "image/png": "[encoded data removed]",
      "text/plain": [
       "<Figure size 1080x504 with 1 Axes>"
      ]
     },
     "metadata": {
      "needs_background": "light"
     },
     "output_type": "display_data"
    }
   ],
   "source": [
    "plt.figure(figsize = [15, 7])\n",
    "\n",
    "ax = sb.barplot(data = df2, x = 'IncomeRange', y = 'BorrowerAPR', hue = 'Term')\n",
    "ax.legend(loc = 8, ncol = 3, framealpha = 1, title = 'Term')\n",
    "plt.title('IncomeRange Vs BorrowerAPR and Term');"
   ]
  },
  {
   "cell_type": "markdown",
   "metadata": {
    "slideshow": {
     "slide_type": "subslide"
    }
   },
   "source": [
    "#### The term (36 monthes) have a biggest APR for all of borrowers who have an income range less than 100000 $"
   ]
  },
  {
   "cell_type": "markdown",
   "metadata": {
    "slideshow": {
     "slide_type": "slide"
    }
   },
   "source": [
    "### Talk about some of the relationships you observed in this part of the investigation. Were there features that strengthened each other in terms of looking at your feature(s) of interest?\n",
    "\n",
    "> The term (36 monthes) have a biggest APR for all of borrowers who have an income range less than 100000 USD\n",
    "\n"
   ]
  }
 ],
 "metadata": {
  "celltoolbar": "Slideshow",
  "kernelspec": {
   "display_name": "Python 3",
   "language": "python",
   "name": "python3"
  },
  "language_info": {
   "codemirror_mode": {
    "name": "ipython",
    "version": 3
   },
   "file_extension": ".py",
   "mimetype": "text/x-python",
   "name": "python",
   "nbconvert_exporter": "python",
   "pygments_lexer": "ipython3",
   "version": "3.7.7"
  }
 },
 "nbformat": 4,
 "nbformat_minor": 2
}
